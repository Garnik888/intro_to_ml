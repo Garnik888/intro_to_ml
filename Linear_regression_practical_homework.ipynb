{
 "cells": [
  {
   "cell_type": "code",
   "execution_count": 1,
   "metadata": {},
   "outputs": [],
   "source": [
    "import pandas as pd\n",
    "import matplotlib.pyplot as plt"
   ]
  },
  {
   "cell_type": "markdown",
   "metadata": {},
   "source": [
    "### Load the dataset from the file Ecommerce.csv"
   ]
  },
  {
   "cell_type": "markdown",
   "metadata": {},
   "source": [
    "```\n",
    "This dataset includes the following data for 200 online customers:\n",
    "\n",
    "- Email\n",
    "- Adress\n",
    "- Avatar\n",
    "- Avg Session Length (everage time they spent on usage)\n",
    "- Time on App (time they spent using the application)\n",
    "- Time on Website (time they spent using the website)\n",
    "- Length of Membership (for how long they have been a user)\n",
    "- Yearly Amount Spent (how much money they spend yearly)\n",
    "\n",
    "Yout goal will be to estimate the value of the Yearly Amount Spent using the feature(s) of the users\n",
    "```"
   ]
  },
  {
   "cell_type": "code",
   "execution_count": 2,
   "metadata": {},
   "outputs": [
    {
     "data": {
      "text/html": [
       "<div>\n",
       "<style scoped>\n",
       "    .dataframe tbody tr th:only-of-type {\n",
       "        vertical-align: middle;\n",
       "    }\n",
       "\n",
       "    .dataframe tbody tr th {\n",
       "        vertical-align: top;\n",
       "    }\n",
       "\n",
       "    .dataframe thead th {\n",
       "        text-align: right;\n",
       "    }\n",
       "</style>\n",
       "<table border=\"1\" class=\"dataframe\">\n",
       "  <thead>\n",
       "    <tr style=\"text-align: right;\">\n",
       "      <th></th>\n",
       "      <th>Email</th>\n",
       "      <th>Address</th>\n",
       "      <th>Avatar</th>\n",
       "      <th>Avg Session Length</th>\n",
       "      <th>Time on App</th>\n",
       "      <th>Time on Website</th>\n",
       "      <th>Length of Membership</th>\n",
       "      <th>Yearly Amount Spent</th>\n",
       "    </tr>\n",
       "  </thead>\n",
       "  <tbody>\n",
       "    <tr>\n",
       "      <th>0</th>\n",
       "      <td>mstephenson@fernandez.com</td>\n",
       "      <td>835 Frank TunnelWrightmouth, MI 82180-9605</td>\n",
       "      <td>Violet</td>\n",
       "      <td>34.497268</td>\n",
       "      <td>12.655651</td>\n",
       "      <td>39.577668</td>\n",
       "      <td>4.082621</td>\n",
       "      <td>587.951054</td>\n",
       "    </tr>\n",
       "    <tr>\n",
       "      <th>1</th>\n",
       "      <td>hduke@hotmail.com</td>\n",
       "      <td>4547 Archer CommonDiazchester, CA 06566-8576</td>\n",
       "      <td>DarkGreen</td>\n",
       "      <td>31.926272</td>\n",
       "      <td>11.109461</td>\n",
       "      <td>37.268959</td>\n",
       "      <td>2.664034</td>\n",
       "      <td>392.204933</td>\n",
       "    </tr>\n",
       "    <tr>\n",
       "      <th>2</th>\n",
       "      <td>pallen@yahoo.com</td>\n",
       "      <td>24645 Valerie Unions Suite 582Cobbborough, DC ...</td>\n",
       "      <td>Bisque</td>\n",
       "      <td>33.000915</td>\n",
       "      <td>11.330278</td>\n",
       "      <td>37.110597</td>\n",
       "      <td>4.104543</td>\n",
       "      <td>487.547505</td>\n",
       "    </tr>\n",
       "    <tr>\n",
       "      <th>3</th>\n",
       "      <td>riverarebecca@gmail.com</td>\n",
       "      <td>1414 David ThroughwayPort Jason, OH 22070-1220</td>\n",
       "      <td>SaddleBrown</td>\n",
       "      <td>34.305557</td>\n",
       "      <td>13.717514</td>\n",
       "      <td>36.721283</td>\n",
       "      <td>3.120179</td>\n",
       "      <td>581.852344</td>\n",
       "    </tr>\n",
       "    <tr>\n",
       "      <th>4</th>\n",
       "      <td>mstephens@davidson-herman.com</td>\n",
       "      <td>14023 Rodriguez PassagePort Jacobville, PR 372...</td>\n",
       "      <td>MediumAquaMarine</td>\n",
       "      <td>33.330673</td>\n",
       "      <td>12.795189</td>\n",
       "      <td>37.536653</td>\n",
       "      <td>4.446308</td>\n",
       "      <td>599.406092</td>\n",
       "    </tr>\n",
       "  </tbody>\n",
       "</table>\n",
       "</div>"
      ],
      "text/plain": [
       "                           Email  \\\n",
       "0      mstephenson@fernandez.com   \n",
       "1              hduke@hotmail.com   \n",
       "2               pallen@yahoo.com   \n",
       "3        riverarebecca@gmail.com   \n",
       "4  mstephens@davidson-herman.com   \n",
       "\n",
       "                                             Address            Avatar  \\\n",
       "0         835 Frank TunnelWrightmouth, MI 82180-9605            Violet   \n",
       "1       4547 Archer CommonDiazchester, CA 06566-8576         DarkGreen   \n",
       "2  24645 Valerie Unions Suite 582Cobbborough, DC ...            Bisque   \n",
       "3     1414 David ThroughwayPort Jason, OH 22070-1220       SaddleBrown   \n",
       "4  14023 Rodriguez PassagePort Jacobville, PR 372...  MediumAquaMarine   \n",
       "\n",
       "   Avg Session Length  Time on App  Time on Website  Length of Membership  \\\n",
       "0           34.497268    12.655651        39.577668              4.082621   \n",
       "1           31.926272    11.109461        37.268959              2.664034   \n",
       "2           33.000915    11.330278        37.110597              4.104543   \n",
       "3           34.305557    13.717514        36.721283              3.120179   \n",
       "4           33.330673    12.795189        37.536653              4.446308   \n",
       "\n",
       "   Yearly Amount Spent  \n",
       "0           587.951054  \n",
       "1           392.204933  \n",
       "2           487.547505  \n",
       "3           581.852344  \n",
       "4           599.406092  "
      ]
     },
     "execution_count": 2,
     "metadata": {},
     "output_type": "execute_result"
    }
   ],
   "source": [
    "df = pd.read_csv('Ecommerce.csv')\n",
    "df.head()"
   ]
  },
  {
   "cell_type": "markdown",
   "metadata": {},
   "source": [
    "### Get rid of non-numerical columns of the dataset"
   ]
  },
  {
   "cell_type": "code",
   "execution_count": 3,
   "metadata": {},
   "outputs": [
    {
     "name": "stdout",
     "output_type": "stream",
     "text": [
      "Delet non numerical columns\n"
     ]
    },
    {
     "data": {
      "text/html": [
       "<div>\n",
       "<style scoped>\n",
       "    .dataframe tbody tr th:only-of-type {\n",
       "        vertical-align: middle;\n",
       "    }\n",
       "\n",
       "    .dataframe tbody tr th {\n",
       "        vertical-align: top;\n",
       "    }\n",
       "\n",
       "    .dataframe thead th {\n",
       "        text-align: right;\n",
       "    }\n",
       "</style>\n",
       "<table border=\"1\" class=\"dataframe\">\n",
       "  <thead>\n",
       "    <tr style=\"text-align: right;\">\n",
       "      <th></th>\n",
       "      <th>Avg Session Length</th>\n",
       "      <th>Time on App</th>\n",
       "      <th>Time on Website</th>\n",
       "      <th>Length of Membership</th>\n",
       "      <th>Yearly Amount Spent</th>\n",
       "    </tr>\n",
       "  </thead>\n",
       "  <tbody>\n",
       "    <tr>\n",
       "      <th>0</th>\n",
       "      <td>34.497268</td>\n",
       "      <td>12.655651</td>\n",
       "      <td>39.577668</td>\n",
       "      <td>4.082621</td>\n",
       "      <td>587.951054</td>\n",
       "    </tr>\n",
       "    <tr>\n",
       "      <th>1</th>\n",
       "      <td>31.926272</td>\n",
       "      <td>11.109461</td>\n",
       "      <td>37.268959</td>\n",
       "      <td>2.664034</td>\n",
       "      <td>392.204933</td>\n",
       "    </tr>\n",
       "    <tr>\n",
       "      <th>2</th>\n",
       "      <td>33.000915</td>\n",
       "      <td>11.330278</td>\n",
       "      <td>37.110597</td>\n",
       "      <td>4.104543</td>\n",
       "      <td>487.547505</td>\n",
       "    </tr>\n",
       "    <tr>\n",
       "      <th>3</th>\n",
       "      <td>34.305557</td>\n",
       "      <td>13.717514</td>\n",
       "      <td>36.721283</td>\n",
       "      <td>3.120179</td>\n",
       "      <td>581.852344</td>\n",
       "    </tr>\n",
       "    <tr>\n",
       "      <th>4</th>\n",
       "      <td>33.330673</td>\n",
       "      <td>12.795189</td>\n",
       "      <td>37.536653</td>\n",
       "      <td>4.446308</td>\n",
       "      <td>599.406092</td>\n",
       "    </tr>\n",
       "  </tbody>\n",
       "</table>\n",
       "</div>"
      ],
      "text/plain": [
       "   Avg Session Length  Time on App  Time on Website  Length of Membership  \\\n",
       "0           34.497268    12.655651        39.577668              4.082621   \n",
       "1           31.926272    11.109461        37.268959              2.664034   \n",
       "2           33.000915    11.330278        37.110597              4.104543   \n",
       "3           34.305557    13.717514        36.721283              3.120179   \n",
       "4           33.330673    12.795189        37.536653              4.446308   \n",
       "\n",
       "   Yearly Amount Spent  \n",
       "0           587.951054  \n",
       "1           392.204933  \n",
       "2           487.547505  \n",
       "3           581.852344  \n",
       "4           599.406092  "
      ]
     },
     "execution_count": 3,
     "metadata": {},
     "output_type": "execute_result"
    }
   ],
   "source": [
    "print('Delet non numerical columns')\n",
    "col_list = df.columns.tolist()\n",
    "for i in range(len(col_list)):\n",
    "    if str(df[col_list[i]].dtypes) != 'float64':\n",
    "        df=df.drop(columns=[col_list[i]])\n",
    "df.head()"
   ]
  },
  {
   "cell_type": "markdown",
   "metadata": {},
   "source": [
    "### Use Yearly Amount Spent as your target variable. Plot the relationship of each of the numerical features with the target variable"
   ]
  },
  {
   "cell_type": "code",
   "execution_count": 4,
   "metadata": {},
   "outputs": [
    {
     "name": "stdout",
     "output_type": "stream",
     "text": [
      "['Avg Session Length', 'Time on App', 'Time on Website', 'Length of Membership', 'Yearly Amount Spent']\n",
      "Which is your target variable : 123\n",
      "Your target variable is incorrect PLEASE copy target variable name of dataset\n",
      "Which is your target variable : Yearly Amount Spent\n",
      "Your target variable is incorrect PLEASE copy target variable name of dataset\n"
     ]
    },
    {
     "data": {
      "image/png": "[encoded data removed]",
      "text/plain": [
       "<Figure size 720x1440 with 4 Axes>"
      ]
     },
     "metadata": {
      "needs_background": "light"
     },
     "output_type": "display_data"
    }
   ],
   "source": [
    "col_name = df.columns.tolist()\n",
    "flag = True\n",
    "while flag:\n",
    "    leabel = str(input('Which is your target variable : '))\n",
    "    for i in range(len(col_name)):\n",
    "        if leabel == col_name[i]:\n",
    "            flag = False\n",
    "            break\n",
    "    print(\"Your target variable is incorrect PLEASE copy target variable name of dataset\")\n",
    "fig, axs = plt.subplots(len(df.columns.difference([leabel])),1)\n",
    "fig.set_figwidth(10)\n",
    "fig.set_figheight(20)\n",
    "fig.tight_layout(h_pad = 5)\n",
    "\n",
    "coloms = df.columns.difference([leabel]).tolist()\n",
    "\n",
    "for i in range(len(coloms)):\n",
    "    axs[i].scatter(df[coloms[i]], df[leabel])\n",
    "    axs[i].set_xlabel(coloms[i])\n",
    "    axs[i].set_ylabel(leabel)\n",
    "\n"
   ]
  },
  {
   "cell_type": "markdown",
   "metadata": {},
   "source": [
    "### Leave only one feature that has a linear relationship with the target variable."
   ]
  },
  {
   "cell_type": "code",
   "execution_count": 5,
   "metadata": {},
   "outputs": [
    {
     "name": "stdout",
     "output_type": "stream",
     "text": [
      "Input one feature variable\n",
      "Which is your feature variable : Length of Membership123\n",
      "Your feature variable is incorrect PLEASE copy feature variable name of dataset\n",
      "Input one feature variable\n",
      "Which is your feature variable : Length of Membership\n",
      "Your feature variable is incorrect PLEASE copy feature variable name of dataset\n"
     ]
    },
    {
     "data": {
      "text/html": [
       "<div>\n",
       "<style scoped>\n",
       "    .dataframe tbody tr th:only-of-type {\n",
       "        vertical-align: middle;\n",
       "    }\n",
       "\n",
       "    .dataframe tbody tr th {\n",
       "        vertical-align: top;\n",
       "    }\n",
       "\n",
       "    .dataframe thead th {\n",
       "        text-align: right;\n",
       "    }\n",
       "</style>\n",
       "<table border=\"1\" class=\"dataframe\">\n",
       "  <thead>\n",
       "    <tr style=\"text-align: right;\">\n",
       "      <th></th>\n",
       "      <th>Length of Membership</th>\n",
       "      <th>Yearly Amount Spent</th>\n",
       "    </tr>\n",
       "  </thead>\n",
       "  <tbody>\n",
       "    <tr>\n",
       "      <th>0</th>\n",
       "      <td>4.082621</td>\n",
       "      <td>587.951054</td>\n",
       "    </tr>\n",
       "    <tr>\n",
       "      <th>1</th>\n",
       "      <td>2.664034</td>\n",
       "      <td>392.204933</td>\n",
       "    </tr>\n",
       "    <tr>\n",
       "      <th>2</th>\n",
       "      <td>4.104543</td>\n",
       "      <td>487.547505</td>\n",
       "    </tr>\n",
       "    <tr>\n",
       "      <th>3</th>\n",
       "      <td>3.120179</td>\n",
       "      <td>581.852344</td>\n",
       "    </tr>\n",
       "    <tr>\n",
       "      <th>4</th>\n",
       "      <td>4.446308</td>\n",
       "      <td>599.406092</td>\n",
       "    </tr>\n",
       "    <tr>\n",
       "      <th>...</th>\n",
       "      <td>...</td>\n",
       "      <td>...</td>\n",
       "    </tr>\n",
       "    <tr>\n",
       "      <th>495</th>\n",
       "      <td>3.746573</td>\n",
       "      <td>573.847438</td>\n",
       "    </tr>\n",
       "    <tr>\n",
       "      <th>496</th>\n",
       "      <td>3.576526</td>\n",
       "      <td>529.049004</td>\n",
       "    </tr>\n",
       "    <tr>\n",
       "      <th>497</th>\n",
       "      <td>4.958264</td>\n",
       "      <td>551.620145</td>\n",
       "    </tr>\n",
       "    <tr>\n",
       "      <th>498</th>\n",
       "      <td>2.336485</td>\n",
       "      <td>456.469510</td>\n",
       "    </tr>\n",
       "    <tr>\n",
       "      <th>499</th>\n",
       "      <td>2.735160</td>\n",
       "      <td>497.778642</td>\n",
       "    </tr>\n",
       "  </tbody>\n",
       "</table>\n",
       "<p>500 rows × 2 columns</p>\n",
       "</div>"
      ],
      "text/plain": [
       "     Length of Membership  Yearly Amount Spent\n",
       "0                4.082621           587.951054\n",
       "1                2.664034           392.204933\n",
       "2                4.104543           487.547505\n",
       "3                3.120179           581.852344\n",
       "4                4.446308           599.406092\n",
       "..                    ...                  ...\n",
       "495              3.746573           573.847438\n",
       "496              3.576526           529.049004\n",
       "497              4.958264           551.620145\n",
       "498              2.336485           456.469510\n",
       "499              2.735160           497.778642\n",
       "\n",
       "[500 rows x 2 columns]"
      ]
     },
     "execution_count": 5,
     "metadata": {},
     "output_type": "execute_result"
    }
   ],
   "source": [
    "flag = True\n",
    "while flag:\n",
    "    print('Input one feature variable')\n",
    "    feature = str(input('Which is your feature variable : '))\n",
    "    for i in range(len(col_name)):\n",
    "        if feature == col_name[i] and feature!=leabel:\n",
    "            flag = False\n",
    "            break\n",
    "    print(\"Your feature variable is incorrect PLEASE copy feature variable name of dataset\")\n",
    "ln_df = df[[feature, leabel]]\n",
    "ln_df"
   ]
  },
  {
   "cell_type": "markdown",
   "metadata": {},
   "source": [
    "### Divide the dataset into training and test sets with the ratio 80:20."
   ]
  },
  {
   "cell_type": "code",
   "execution_count": 6,
   "metadata": {},
   "outputs": [
    {
     "name": "stdout",
     "output_type": "stream",
     "text": [
      "Please input test size 0.0 to 1.0\n",
      "Test size =0.2\n",
      "Train lengt = 400\n",
      "Test lengt = 100\n"
     ]
    }
   ],
   "source": [
    "while True:\n",
    "    print('Please input test size 0.0 to 1.0')\n",
    "    test_size = float(input('Test size ='))\n",
    "    if 0 < test_size < 1:\n",
    "        break\n",
    "        \n",
    "from sklearn.model_selection import train_test_split\n",
    "\n",
    "xTrain, xTest, yTrain, yTest = train_test_split(ln_df[ln_df.columns.difference([leabel])], \n",
    "                                                ln_df[leabel], test_size=0.2, random_state=20)\n",
    "print('Train lengt =',len(xTrain))\n",
    "print('Test lengt =',len(xTest))"
   ]
  },
  {
   "cell_type": "code",
   "execution_count": 7,
   "metadata": {},
   "outputs": [],
   "source": [
    "xTrain.index = [i for i in range(len(xTrain))]\n",
    "yTrain.index = [i for i in range(len(yTrain))]\n",
    "\n",
    "xTest.index = [i for i in range(len(xTest))]\n",
    "yTest.index = [i for i in range(len(yTest))]"
   ]
  },
  {
   "cell_type": "markdown",
   "metadata": {},
   "source": [
    "### Use the resulting train and test sets with the next 2 functions to fit linear regression and plot the resulting regression line."
   ]
  },
  {
   "cell_type": "markdown",
   "metadata": {},
   "source": [
    "The first function is `fit_1d_linear_regression` that takes two vectors $x$ and $y$, and returns a numpy array ($\\beta_0, \\beta_1)$, where $\\beta_0$ is the intercept of the line, and $\\beta_1$ is the slope. "
   ]
  },
  {
   "cell_type": "code",
   "execution_count": 10,
   "metadata": {},
   "outputs": [
    {
     "name": "stdout",
     "output_type": "stream",
     "text": [
      "Intercept = 271.0696303392176\n",
      "Slope = 64.71480815459044\n"
     ]
    }
   ],
   "source": [
    "def fit_1d_linear_regression(data_vector, response_vector):\n",
    "    \"\"\"\n",
    "    :param data_vector: A pandas series object (i.e. a column of a dataframe),\n",
    "                        where each element is a data point (x)\n",
    "    :param response_vector: A pandas series object (i.e. a column of a dataframe),\n",
    "                        where each element is label (y)\n",
    "    :return: numpy array beta of coefficients of the regression\n",
    "    \n",
    "    Note: You can avoid the intercept for simplicity \n",
    "    or include the intercept for an extra point\n",
    "    \"\"\"\n",
    "    \n",
    "    if len(data_vector) != len(response_vector):\n",
    "        print('lengt data_vector and lengt response_vector in not equal')\n",
    "    x_vector = data_vector.tolist()\n",
    "    y_vector = response_vector.tolist()\n",
    "    xy, y, x, xx = 0, 0, 0, 0\n",
    "    n = len(data_vector)\n",
    "    for i in range(n):\n",
    "        xy = xy + x_vector[i]*y_vector[i]\n",
    "        y = y + y_vector[i]\n",
    "        x = x + x_vector[i]\n",
    "        xx = xx + x_vector[i]**2\n",
    "        \n",
    "    bet_1 = (xy - (1/n)*y*x)/(xx - (1/n)*x**2)\n",
    "    bet_0 = (y - bet_1*x)/n\n",
    "    \n",
    "    return (bet_0, bet_1)\n",
    "    \n",
    "b0, b1 = fit_1d_linear_regression(xTrain[feature], yTrain)    \n",
    "\n",
    "print('Intercept =',b0)\n",
    "print('Slope =', b1)"
   ]
  },
  {
   "cell_type": "markdown",
   "metadata": {},
   "source": [
    "The second function is `plot_line` function, that takes $\\beta_0, \\beta_1, x, y$ and plots a scatter plot of the data, and the line $y = \\beta_0 + \\beta_1 x$. And saves the plot in `YOURNAME.png`"
   ]
  },
  {
   "cell_type": "code",
   "execution_count": 20,
   "metadata": {},
   "outputs": [
    {
     "data": {
      "image/png": "[encoded data removed]",
      "text/plain": [
       "<Figure size 432x288 with 1 Axes>"
      ]
     },
     "metadata": {
      "needs_background": "light"
     },
     "output_type": "display_data"
    }
   ],
   "source": [
    "def plot_fitted_line(b0, b1, x, y):\n",
    "    \"\"\"\n",
    "    :param b0: Intersept of line to plot\n",
    "    Note: avoid this if you don't have an intercept in the previous function\n",
    "    :param b1: Slope of the line to plot\n",
    "    :param x: A pandas series object (i.e. a column of a dataframe),\n",
    "                        where each element is a data point (x coordinates)\n",
    "    :param y: A pandas series object (i.e. a column of a dataframe),\n",
    "                        where each element is a label (y coordinates)\n",
    "    \"\"\"\n",
    "    \n",
    "    if len(x) != len(x):\n",
    "        print('lengt x and lengt y in not equal')\n",
    "\n",
    "    x_arr = x.tolist()\n",
    "    y_arr = y.tolist()\n",
    "    \n",
    "    y_prd = []\n",
    "    for i in range(len(x_arr)):\n",
    "        y_prd.append(b0 + b1*x[i])\n",
    "        \n",
    "    #PLOT graphics\n",
    "    plt.scatter(x_arr, y_arr, c='b')\n",
    "    plt.plot(x_arr, y_prd, c='r', lw=4)\n",
    "    \n",
    "    plt.xlabel(feature)\n",
    "    plt.ylabel(leabel)\n",
    "    plt.title('Regression line %s vs %s' %(feature, leabel))\n",
    "    \n",
    "    plt.xticks()\n",
    "    plt.yticks()\n",
    "    \n",
    "    plt.show()  \n",
    "\n",
    "plot_fitted_line(b0, b1, xTrain[feature], yTrain)"
   ]
  },
  {
   "cell_type": "markdown",
   "metadata": {},
   "source": [
    "### Plot example"
   ]
  },
  {
   "attachments": {
    "image.png": {
     "image/png": "[encoded data removed]"
    }
   },
   "cell_type": "markdown",
   "metadata": {},
   "source": [
    "![image.png](attachment:image.png)"
   ]
  },
  {
   "cell_type": "markdown",
   "metadata": {},
   "source": [
    "### Now fit the linear regression to the data containing only 1 feature using sklearn and compare the results with your own fit_1d_linear_regression function"
   ]
  },
  {
   "cell_type": "code",
   "execution_count": 22,
   "metadata": {},
   "outputs": [
    {
     "name": "stdout",
     "output_type": "stream",
     "text": [
      "My intercept = :271.07\n",
      "Sklearn intercept = :271.07\n",
      "My coef = :64.71\n",
      "Sklearn coef = :64.71\n"
     ]
    }
   ],
   "source": [
    "from sklearn import linear_model\n",
    "import numpy as np\n",
    "rg = linear_model.LinearRegression()\n",
    "rg.fit(xTrain, yTrain)\n",
    "\n",
    "\n",
    "intercept, coef = fit_1d_linear_regression(xTrain[feature], yTrain)\n",
    "print('My intercept = :%.2f' %intercept)\n",
    "print('Sklearn intercept = :%.2f' %rg.intercept_)\n",
    "\n",
    "print('My coef = :%.2f' %coef)\n",
    "print('Sklearn coef = :%.2f' %rg.coef_)"
   ]
  },
  {
   "cell_type": "markdown",
   "metadata": {},
   "source": [
    "### Use sklearn.metrics to calculate Mean absolute error, Mean squared error, Root mean squared error and R-squared for the results of your own function vs the sklearn regression results. Try to interprete your results."
   ]
  },
  {
   "cell_type": "code",
   "execution_count": 23,
   "metadata": {},
   "outputs": [
    {
     "data": {
      "text/plain": [
       "array([468.39774792, 438.4847672 , 389.23140641, 350.54669021,\n",
       "       451.23327009, 524.65731371, 450.25535266, 367.77367325,\n",
       "       577.98462468, 515.23659694, 621.32932959, 507.73064358,\n",
       "       549.47250848, 464.93974055, 499.97392365, 382.10582051,\n",
       "       348.75871282, 515.8095828 , 529.99122127, 427.73163662,\n",
       "       495.72148594, 485.28537498, 611.12711039, 666.81355694,\n",
       "       474.24351364, 432.50354387, 538.05603093, 412.80361455,\n",
       "       576.27145982, 492.05053651, 609.31372294, 406.63172988,\n",
       "       563.2001981 , 468.22592214, 505.36085601, 480.16148276,\n",
       "       468.49593514, 542.43982966, 536.69435624, 542.76498438,\n",
       "       501.53299343, 585.12039572, 528.79451029, 534.99655026,\n",
       "       481.9177805 , 474.02385743, 488.73215343, 555.59811464,\n",
       "       442.70354623, 498.02236407, 540.16769385, 493.86972021,\n",
       "       431.73111593, 597.87471806, 620.87947286, 542.58801215,\n",
       "       448.074957  , 505.36018301, 581.3326287 , 522.99735565,\n",
       "       507.23248394, 478.05342561, 537.25626977, 460.29707057,\n",
       "       498.80313919, 410.83264984, 485.69401004, 534.9620635 ,\n",
       "       521.67332702, 381.56302908, 534.45350352, 513.52838153,\n",
       "       523.74726434, 589.48709205, 478.59427482, 472.16886999,\n",
       "       499.6980897 , 431.31249396, 537.99137653, 527.26858373,\n",
       "       424.30447392, 492.03874662, 593.68621364, 528.28009017,\n",
       "       459.42407414, 491.1984963 , 561.63925263, 454.72657776,\n",
       "       532.59802322, 534.10611002, 535.53098695, 499.84219974,\n",
       "       475.552533  , 409.52068534, 478.33861082, 472.26223834,\n",
       "       549.19688698, 597.6867265 , 462.46035924, 558.03278498])"
      ]
     },
     "execution_count": 23,
     "metadata": {},
     "output_type": "execute_result"
    }
   ],
   "source": [
    "from sklearn.metrics import mean_absolute_error, mean_squared_error, r2_score\n",
    "\n",
    "y_test_pred = rg.predict(xTest)\n",
    "y_test_pred"
   ]
  },
  {
   "cell_type": "code",
   "execution_count": 24,
   "metadata": {},
   "outputs": [
    {
     "data": {
      "text/plain": [
       "array([471.60288439, 420.73767324, 424.18549429, 357.85798361,\n",
       "       407.54216801, 573.41586733, 510.66179222, 376.33690076,\n",
       "       554.72208383, 557.60826205, 627.60331871, 490.6004425 ,\n",
       "       535.32161009, 520.89879445, 461.79095906, 373.8857237 ,\n",
       "       368.65478495, 494.55186109, 583.07963566, 407.70454755,\n",
       "       447.68790654, 538.94197453, 591.43773557, 669.9871405 ,\n",
       "       469.38314617, 470.4527333 , 611.0000251 , 424.2028271 ,\n",
       "       576.8025474 , 483.15972078, 604.84131882, 408.95833594,\n",
       "       479.73193765, 550.81336773, 485.92313052, 557.52927361,\n",
       "       436.28349815, 514.08895775, 487.54750487, 537.91575292,\n",
       "       474.53232944, 528.93361857, 523.63393514, 442.06441376,\n",
       "       578.24160506, 457.84769594, 479.61481167, 533.51493526,\n",
       "       426.77521599, 483.79652206, 565.9943634 , 501.10024523,\n",
       "       492.60601272, 616.66028602, 663.07481761, 561.87465767,\n",
       "       497.77864222, 430.58888256, 640.5840619 , 502.4097853 ,\n",
       "       521.88357317, 416.35835358, 563.67287336, 431.61773376,\n",
       "       424.67528101, 382.41610787, 478.88539132, 647.61945573,\n",
       "       486.0834255 , 327.37795259, 596.51669797, 573.84743772,\n",
       "       508.73574095, 573.30622226, 498.63559849, 413.29599918,\n",
       "       478.60091594, 449.07031944, 507.44183234, 448.93329321,\n",
       "       458.37691065, 479.17285149, 577.73602485, 548.51852928,\n",
       "       438.41774201, 418.1500811 , 630.15672817, 444.2859075 ,\n",
       "       541.04983096, 605.0610388 , 478.2621264 , 392.99225591,\n",
       "       462.89763615, 444.57614413, 427.1993849 , 387.35707274,\n",
       "       571.47103412, 531.96155055, 506.13234244, 549.90414611])"
      ]
     },
     "execution_count": 24,
     "metadata": {},
     "output_type": "execute_result"
    }
   ],
   "source": [
    "np.array(yTest)"
   ]
  },
  {
   "cell_type": "code",
   "execution_count": 25,
   "metadata": {},
   "outputs": [
    {
     "name": "stdout",
     "output_type": "stream",
     "text": [
      "Mean absolute error = 35.701\n",
      "Mean squared error = 1991.157\n",
      "Root mean squared error = 44.622\n",
      "R-squared = 0.636\n"
     ]
    }
   ],
   "source": [
    "print('Mean absolute error = %.3f' % mean_absolute_error(yTest, y_test_pred))\n",
    "print('Mean squared error = %.3f' % mean_squared_error(yTest, y_test_pred))\n",
    "print('Root mean squared error = %.3f' % np.sqrt(mean_squared_error(yTest, y_test_pred)))\n",
    "print('R-squared = %.3f' % r2_score(yTest, y_test_pred))"
   ]
  },
  {
   "cell_type": "markdown",
   "metadata": {},
   "source": [
    "### Fit linear regression to the data containing all numerical features using sklearn and use the same metrics to evaluate how good the model is."
   ]
  },
  {
   "cell_type": "code",
   "execution_count": 28,
   "metadata": {},
   "outputs": [],
   "source": [
    "from sklearn.model_selection import train_test_split\n",
    "\n",
    "xTrain, xTest, yTrain, yTest = train_test_split(df[df.columns.difference([leabel])], \n",
    "                                                df[leabel], test_size=0.2, random_state=20)"
   ]
  },
  {
   "cell_type": "code",
   "execution_count": 29,
   "metadata": {},
   "outputs": [],
   "source": [
    "from sklearn import linear_model\n",
    "from sklearn.metrics import mean_squared_error, mean_absolute_error, r2_score"
   ]
  },
  {
   "cell_type": "code",
   "execution_count": 30,
   "metadata": {},
   "outputs": [
    {
     "data": {
      "text/plain": [
       "(array([26.01617112, 61.75126784, 38.36213802,  0.78968829]),\n",
       " -1070.3683848678502)"
      ]
     },
     "execution_count": 30,
     "metadata": {},
     "output_type": "execute_result"
    }
   ],
   "source": [
    "regr = linear_model.LinearRegression()\n",
    "regr.fit(xTrain, yTrain)\n",
    "regr.coef_, regr.intercept_"
   ]
  },
  {
   "cell_type": "code",
   "execution_count": 31,
   "metadata": {},
   "outputs": [
    {
     "name": "stdout",
     "output_type": "stream",
     "text": [
      "Mean absolute error: 8.32\n",
      "Mean squared error: 110.24\n",
      "Root mean squared error: 10.50\n",
      "R-squared: 0.98\n"
     ]
    }
   ],
   "source": [
    "y_pred_test = regr.predict(xTest)\n",
    "\n",
    "print('Mean absolute error: %.2f'\n",
    "      % mean_absolute_error(yTest, y_pred_test))\n",
    "\n",
    "print('Mean squared error: %.2f'\n",
    "      % mean_squared_error(yTest, y_pred_test))\n",
    "\n",
    "print('Root mean squared error: %.2f'\n",
    "      % np.sqrt(mean_squared_error(yTest, y_pred_test)))\n",
    "\n",
    "print('R-squared: %.2f'\n",
    "      % r2_score(yTest, y_pred_test))"
   ]
  }
 ],
 "metadata": {
  "kernelspec": {
   "display_name": "Python 3",
   "language": "python",
   "name": "python3"
  },
  "language_info": {
   "codemirror_mode": {
    "name": "ipython",
    "version": 3
   },
   "file_extension": ".py",
   "mimetype": "text/x-python",
   "name": "python",
   "nbconvert_exporter": "python",
   "pygments_lexer": "ipython3",
   "version": "3.7.6"
  }
 },
 "nbformat": 4,
 "nbformat_minor": 4
}
